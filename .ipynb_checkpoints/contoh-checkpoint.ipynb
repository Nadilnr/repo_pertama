{
 "cells": [
  {
   "cell_type": "code",
   "execution_count": 1,
   "id": "46a66e72-23c1-4028-b309-bd5e74a09da0",
   "metadata": {},
   "outputs": [
    {
     "name": "stdout",
     "output_type": "stream",
     "text": [
      "mikey ganteng\n"
     ]
    }
   ],
   "source": [
    "print('mikey ganteng')"
   ]
  },
  {
   "cell_type": "code",
   "execution_count": null,
   "id": "a245fe21-c9dc-4ec7-bcc3-07487ca743cf",
   "metadata": {},
   "outputs": [],
   "source": []
  }
 ],
 "metadata": {
  "kernelspec": {
   "display_name": "Python 3 (ipykernel)",
   "language": "python",
   "name": "python3"
  },
  "language_info": {
   "codemirror_mode": {
    "name": "ipython",
    "version": 3
   },
   "file_extension": ".py",
   "mimetype": "text/x-python",
   "name": "python",
   "nbconvert_exporter": "python",
   "pygments_lexer": "ipython3",
   "version": "3.9.12"
  },
  "toc-autonumbering": false,
  "toc-showcode": false,
  "toc-showmarkdowntxt": true
 },
 "nbformat": 4,
 "nbformat_minor": 5
}
